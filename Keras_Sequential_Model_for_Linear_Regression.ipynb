{
 "cells": [
  {
   "cell_type": "markdown",
   "metadata": {},
   "source": [
    "## Import packages\n",
    "* numpy - package for scientific computing with Python\n",
    "* pyplot - provides a MATLAB-like plotting framework."
   ]
  },
  {
   "cell_type": "code",
   "execution_count": 2,
   "metadata": {},
   "outputs": [],
   "source": [
    "import numpy as np\n",
    "import matplotlib.pyplot as plt"
   ]
  },
  {
   "cell_type": "markdown",
   "metadata": {},
   "source": [
    "## Import keras packages\n",
    "* keras - the neural network library\n",
    "* Sequential -  basic keras model composed of a linear stack of layers.\n",
    "* Dense - a regular densely-connected NN layer."
   ]
  },
  {
   "cell_type": "code",
   "execution_count": 3,
   "metadata": {},
   "outputs": [
    {
     "name": "stderr",
     "output_type": "stream",
     "text": [
      "Using TensorFlow backend.\n"
     ]
    }
   ],
   "source": [
    "import keras\n",
    "from keras.models import Sequential\n",
    "from keras.layers import Dense"
   ]
  },
  {
   "cell_type": "markdown",
   "metadata": {},
   "source": [
    "## Define a linear regression problem\n",
    "* Create a 100 data points and we will fit them on a straight line.\n",
    "* train_data_X has values between –1 and 1, and train_data_Y has 4 times the train_data_X and some randomness."
   ]
  },
  {
   "cell_type": "code",
   "execution_count": 4,
   "metadata": {},
   "outputs": [],
   "source": [
    "train_data_X = np.linspace(-1, 1, 101)\n",
    "train_data_Y = 4 * train_data_X + np.random.randn(101) * 0.44"
   ]
  },
  {
   "cell_type": "code",
   "execution_count": 5,
   "metadata": {},
   "outputs": [
    {
     "data": {
      "text/plain": [
       "array([-1.  , -0.98, -0.96, -0.94, -0.92, -0.9 , -0.88, -0.86, -0.84,\n",
       "       -0.82, -0.8 , -0.78, -0.76, -0.74, -0.72, -0.7 , -0.68, -0.66,\n",
       "       -0.64, -0.62, -0.6 , -0.58, -0.56, -0.54, -0.52, -0.5 , -0.48,\n",
       "       -0.46, -0.44, -0.42, -0.4 , -0.38, -0.36, -0.34, -0.32, -0.3 ,\n",
       "       -0.28, -0.26, -0.24, -0.22, -0.2 , -0.18, -0.16, -0.14, -0.12,\n",
       "       -0.1 , -0.08, -0.06, -0.04, -0.02,  0.  ,  0.02,  0.04,  0.06,\n",
       "        0.08,  0.1 ,  0.12,  0.14,  0.16,  0.18,  0.2 ,  0.22,  0.24,\n",
       "        0.26,  0.28,  0.3 ,  0.32,  0.34,  0.36,  0.38,  0.4 ,  0.42,\n",
       "        0.44,  0.46,  0.48,  0.5 ,  0.52,  0.54,  0.56,  0.58,  0.6 ,\n",
       "        0.62,  0.64,  0.66,  0.68,  0.7 ,  0.72,  0.74,  0.76,  0.78,\n",
       "        0.8 ,  0.82,  0.84,  0.86,  0.88,  0.9 ,  0.92,  0.94,  0.96,\n",
       "        0.98,  1.  ])"
      ]
     },
     "execution_count": 5,
     "metadata": {},
     "output_type": "execute_result"
    }
   ],
   "source": [
    "train_data_X"
   ]
  },
  {
   "cell_type": "code",
   "execution_count": 6,
   "metadata": {
    "scrolled": true
   },
   "outputs": [
    {
     "data": {
      "text/plain": [
       "array([-4.17079833, -3.87634885, -3.53599357, -3.30792173, -3.99486578,\n",
       "       -3.06492874, -4.25012946, -3.6815994 , -3.09358573, -2.8464002 ,\n",
       "       -2.59688395, -3.21388018, -3.17944785, -3.0064456 , -3.14280531,\n",
       "       -3.40564822, -2.08521588, -2.95534929, -3.06273358, -2.84951963,\n",
       "       -1.77739337, -3.2817135 , -2.82901742, -2.00348643, -2.12070433,\n",
       "       -1.82633051, -1.69028555, -2.35392167, -1.21597876, -2.04694174,\n",
       "       -2.3600831 , -1.21120332, -1.6572161 , -0.40557911, -2.01749273,\n",
       "       -1.30749546, -0.91403906, -1.00337697, -1.18585269, -0.82464271,\n",
       "       -0.4956535 , -0.73319942, -0.4133427 , -0.32171572, -0.1302086 ,\n",
       "       -0.38564256, -0.01426358, -0.50298794, -0.53936152,  0.71148126,\n",
       "        0.16558609, -0.45948704,  0.21219291,  0.63876113, -0.13107309,\n",
       "        0.04419493,  0.51646225,  0.4240881 ,  1.60462292,  0.71612593,\n",
       "        0.79510072,  0.89743866,  0.44758584,  0.84244821,  1.07409986,\n",
       "        1.92123789,  1.09950108,  1.2700024 ,  1.38537452,  1.08085146,\n",
       "        0.94853054,  1.66913271,  1.3181715 ,  1.47526769,  1.1025451 ,\n",
       "        1.4522959 ,  2.74834748,  2.30769339,  2.67258838,  2.5214474 ,\n",
       "        2.456915  ,  2.28192976,  2.58080656,  1.68681444,  2.92861175,\n",
       "        3.02943398,  2.50275195,  3.17801958,  3.04586795,  2.78842604,\n",
       "        3.23758009,  2.96526701,  2.08660318,  2.90554821,  3.72860646,\n",
       "        3.79663661,  4.17123961,  4.16463285,  4.23406848,  3.959626  ,\n",
       "        3.33912502])"
      ]
     },
     "execution_count": 6,
     "metadata": {},
     "output_type": "execute_result"
    }
   ],
   "source": [
    "train_data_Y"
   ]
  },
  {
   "cell_type": "code",
   "execution_count": 7,
   "metadata": {
    "scrolled": true
   },
   "outputs": [
    {
     "data": {
      "text/plain": [
       "<matplotlib.collections.PathCollection at 0x12bb7b748>"
      ]
     },
     "execution_count": 7,
     "metadata": {},
     "output_type": "execute_result"
    },
    {
     "data": {
      "image/png": "[encoded data removed]",
      "text/plain": [
       "<Figure size 432x288 with 1 Axes>"
      ]
     },
     "metadata": {
      "needs_background": "light"
     },
     "output_type": "display_data"
    }
   ],
   "source": [
    "plt.scatter(train_data_X, train_data_Y, label='data',color=['red','green'])"
   ]
  },
  {
   "cell_type": "markdown",
   "metadata": {},
   "source": [
    "## Building the model\n",
    "* Steps to build a keras model: \n",
    "    * Define the model\n",
    "    * Add layers\n",
    "    * Compile the model\n",
    "    * Train the model\n",
    "* We create a sequential model, which is the basic model in keras. \n",
    "* Only a single connection is required, so we use a Dense layer with linear activation.\n",
    "* Take input x and apply weight, w, and bias, b (wx + b ) followed by a linear activation to produce output.\n",
    "* Train the weights for 200 epochs. The value of weights should become 4.\n",
    "* Define mean squared error(mse) as the loss with simple gradient descent(sgd) as the optimizer.\n",
    "* get_weights() : returns the weights of the layer as a list of Numpy arrays. \n",
    "* summary() :  prints a summary representation of your model. "
   ]
  },
  {
   "cell_type": "code",
   "execution_count": 8,
   "metadata": {},
   "outputs": [
    {
     "name": "stderr",
     "output_type": "stream",
     "text": [
      "WARNING: Logging before flag parsing goes to stderr.\n",
      "W0730 00:13:06.766533 4560280896 deprecation_wrapper.py:119] From /Library/Frameworks/Python.framework/Versions/3.6/lib/python3.6/site-packages/keras/backend/tensorflow_backend.py:72: The name tf.get_default_graph is deprecated. Please use tf.compat.v1.get_default_graph instead.\n",
      "\n"
     ]
    }
   ],
   "source": [
    "model = Sequential()"
   ]
  },
  {
   "cell_type": "code",
   "execution_count": 9,
   "metadata": {},
   "outputs": [
    {
     "name": "stderr",
     "output_type": "stream",
     "text": [
      "/Library/Frameworks/Python.framework/Versions/3.6/lib/python3.6/site-packages/ipykernel_launcher.py:1: UserWarning: Update your `Dense` call to the Keras 2 API: `Dense(input_dim=1, activation=\"linear\", units=1, kernel_initializer=\"uniform\")`\n",
      "  \"\"\"Entry point for launching an IPython kernel.\n",
      "W0730 00:13:06.817703 4560280896 deprecation_wrapper.py:119] From /Library/Frameworks/Python.framework/Versions/3.6/lib/python3.6/site-packages/keras/backend/tensorflow_backend.py:515: The name tf.placeholder is deprecated. Please use tf.compat.v1.placeholder instead.\n",
      "\n",
      "W0730 00:13:06.834728 4560280896 deprecation_wrapper.py:119] From /Library/Frameworks/Python.framework/Versions/3.6/lib/python3.6/site-packages/keras/backend/tensorflow_backend.py:4048: The name tf.random_uniform is deprecated. Please use tf.random.uniform instead.\n",
      "\n"
     ]
    }
   ],
   "source": [
    "model.add(Dense(input_dim=1,output_dim=1, init='uniform', activation='linear'))"
   ]
  },
  {
   "cell_type": "code",
   "execution_count": 10,
   "metadata": {},
   "outputs": [],
   "source": [
    "# model.add(Dense(input_dim=1, name='Layer_1', output_dim=1, init='uniform', activation='linear'))"
   ]
  },
  {
   "cell_type": "code",
   "execution_count": 11,
   "metadata": {},
   "outputs": [
    {
     "name": "stdout",
     "output_type": "stream",
     "text": [
      "_________________________________________________________________\n",
      "Layer (type)                 Output Shape              Param #   \n",
      "=================================================================\n",
      "dense_1 (Dense)              (None, 1)                 2         \n",
      "=================================================================\n",
      "Total params: 2\n",
      "Trainable params: 2\n",
      "Non-trainable params: 0\n",
      "_________________________________________________________________\n"
     ]
    }
   ],
   "source": [
    "model.summary()"
   ]
  },
  {
   "cell_type": "code",
   "execution_count": 12,
   "metadata": {},
   "outputs": [
    {
     "data": {
      "text/plain": [
       "1"
      ]
     },
     "execution_count": 12,
     "metadata": {},
     "output_type": "execute_result"
    }
   ],
   "source": [
    "len(model.layers)"
   ]
  },
  {
   "cell_type": "code",
   "execution_count": 13,
   "metadata": {},
   "outputs": [
    {
     "name": "stderr",
     "output_type": "stream",
     "text": [
      "W0730 00:13:06.927685 4560280896 deprecation_wrapper.py:119] From /Library/Frameworks/Python.framework/Versions/3.6/lib/python3.6/site-packages/keras/backend/tensorflow_backend.py:172: The name tf.get_default_session is deprecated. Please use tf.compat.v1.get_default_session instead.\n",
      "\n",
      "W0730 00:13:06.930554 4560280896 deprecation_wrapper.py:119] From /Library/Frameworks/Python.framework/Versions/3.6/lib/python3.6/site-packages/keras/backend/tensorflow_backend.py:179: The name tf.ConfigProto is deprecated. Please use tf.compat.v1.ConfigProto instead.\n",
      "\n"
     ]
    }
   ],
   "source": [
    "weights = model.layers[0].get_weights()"
   ]
  },
  {
   "cell_type": "code",
   "execution_count": 14,
   "metadata": {},
   "outputs": [
    {
     "data": {
      "text/plain": [
       "2"
      ]
     },
     "execution_count": 14,
     "metadata": {},
     "output_type": "execute_result"
    }
   ],
   "source": [
    "len(weights)"
   ]
  },
  {
   "cell_type": "code",
   "execution_count": 15,
   "metadata": {},
   "outputs": [
    {
     "data": {
      "text/plain": [
       "[array([[-0.04596726]], dtype=float32), array([0.], dtype=float32)]"
      ]
     },
     "execution_count": 15,
     "metadata": {},
     "output_type": "execute_result"
    }
   ],
   "source": [
    "weights"
   ]
  },
  {
   "cell_type": "code",
   "execution_count": 16,
   "metadata": {},
   "outputs": [],
   "source": [
    "weight_initial = weights[0]"
   ]
  },
  {
   "cell_type": "code",
   "execution_count": 17,
   "metadata": {},
   "outputs": [],
   "source": [
    "bias_initial = weights[1]"
   ]
  },
  {
   "cell_type": "code",
   "execution_count": 18,
   "metadata": {},
   "outputs": [
    {
     "name": "stdout",
     "output_type": "stream",
     "text": [
      "Linear regression model is initialized with weights w: -0.05, b: 0.00\n"
     ]
    }
   ],
   "source": [
    "print('Linear regression model is initialized with weights w: %.2f, b: %.2f' % (weight_initial, bias_initial))"
   ]
  },
  {
   "cell_type": "code",
   "execution_count": 19,
   "metadata": {},
   "outputs": [
    {
     "name": "stderr",
     "output_type": "stream",
     "text": [
      "W0730 00:13:07.106163 4560280896 deprecation_wrapper.py:119] From /Library/Frameworks/Python.framework/Versions/3.6/lib/python3.6/site-packages/keras/optimizers.py:782: The name tf.train.Optimizer is deprecated. Please use tf.compat.v1.train.Optimizer instead.\n",
      "\n"
     ]
    }
   ],
   "source": [
    "model.compile(optimizer='sgd', loss='mse')"
   ]
  },
  {
   "cell_type": "code",
   "execution_count": 20,
   "metadata": {},
   "outputs": [
    {
     "name": "stdout",
     "output_type": "stream",
     "text": [
      "Epoch 1/200\n",
      "101/101 [==============================] - 0s 2ms/step - loss: 5.5467\n",
      "Epoch 2/200\n",
      "101/101 [==============================] - 0s 120us/step - loss: 5.2730\n",
      "Epoch 3/200\n",
      "101/101 [==============================] - 0s 168us/step - loss: 5.0356\n",
      "Epoch 4/200\n",
      "101/101 [==============================] - 0s 158us/step - loss: 4.7784\n",
      "Epoch 5/200\n",
      "101/101 [==============================] - 0s 177us/step - loss: 4.5335\n",
      "Epoch 6/200\n",
      "101/101 [==============================] - 0s 144us/step - loss: 4.2919\n",
      "Epoch 7/200\n",
      "101/101 [==============================] - 0s 207us/step - loss: 4.0779\n",
      "Epoch 8/200\n",
      "101/101 [==============================] - 0s 315us/step - loss: 3.8819\n",
      "Epoch 9/200\n",
      "101/101 [==============================] - 0s 214us/step - loss: 3.6700\n",
      "Epoch 10/200\n",
      "101/101 [==============================] - 0s 210us/step - loss: 3.5037\n",
      "Epoch 11/200\n",
      "101/101 [==============================] - 0s 230us/step - loss: 3.3207\n",
      "Epoch 12/200\n",
      "101/101 [==============================] - 0s 138us/step - loss: 3.1504\n",
      "Epoch 13/200\n",
      "101/101 [==============================] - 0s 157us/step - loss: 2.9980\n",
      "Epoch 14/200\n",
      "101/101 [==============================] - 0s 159us/step - loss: 2.8637\n",
      "Epoch 15/200\n",
      "101/101 [==============================] - 0s 171us/step - loss: 2.7190\n",
      "Epoch 16/200\n",
      "101/101 [==============================] - 0s 90us/step - loss: 2.5859\n",
      "Epoch 17/200\n",
      "101/101 [==============================] - 0s 119us/step - loss: 2.4593\n",
      "Epoch 18/200\n",
      "101/101 [==============================] - 0s 129us/step - loss: 2.3460\n",
      "Epoch 19/200\n",
      "101/101 [==============================] - 0s 172us/step - loss: 2.2356\n",
      "Epoch 20/200\n",
      "101/101 [==============================] - 0s 129us/step - loss: 2.1195\n",
      "Epoch 21/200\n",
      "101/101 [==============================] - 0s 166us/step - loss: 2.0068\n",
      "Epoch 22/200\n",
      "101/101 [==============================] - 0s 166us/step - loss: 1.9101\n",
      "Epoch 23/200\n",
      "101/101 [==============================] - 0s 279us/step - loss: 1.8238\n",
      "Epoch 24/200\n",
      "101/101 [==============================] - 0s 174us/step - loss: 1.7349\n",
      "Epoch 25/200\n",
      "101/101 [==============================] - 0s 101us/step - loss: 1.6544\n",
      "Epoch 26/200\n",
      "101/101 [==============================] - 0s 216us/step - loss: 1.5731\n",
      "Epoch 27/200\n",
      "101/101 [==============================] - 0s 189us/step - loss: 1.5030\n",
      "Epoch 28/200\n",
      "101/101 [==============================] - 0s 145us/step - loss: 1.4231\n",
      "Epoch 29/200\n",
      "101/101 [==============================] - 0s 141us/step - loss: 1.3670\n",
      "Epoch 30/200\n",
      "101/101 [==============================] - 0s 137us/step - loss: 1.3042\n",
      "Epoch 31/200\n",
      "101/101 [==============================] - 0s 157us/step - loss: 1.2379\n",
      "Epoch 32/200\n",
      "101/101 [==============================] - 0s 73us/step - loss: 1.1823\n",
      "Epoch 33/200\n",
      "101/101 [==============================] - 0s 137us/step - loss: 1.1309\n",
      "Epoch 34/200\n",
      "101/101 [==============================] - 0s 106us/step - loss: 1.0823\n",
      "Epoch 35/200\n",
      "101/101 [==============================] - 0s 122us/step - loss: 1.0399\n",
      "Epoch 36/200\n",
      "101/101 [==============================] - 0s 124us/step - loss: 0.9921\n",
      "Epoch 37/200\n",
      "101/101 [==============================] - 0s 128us/step - loss: 0.9470\n",
      "Epoch 38/200\n",
      "101/101 [==============================] - 0s 117us/step - loss: 0.9026\n",
      "Epoch 39/200\n",
      "101/101 [==============================] - 0s 81us/step - loss: 0.8592\n",
      "Epoch 40/200\n",
      "101/101 [==============================] - 0s 125us/step - loss: 0.8291\n",
      "Epoch 41/200\n",
      "101/101 [==============================] - 0s 88us/step - loss: 0.8010\n",
      "Epoch 42/200\n",
      "101/101 [==============================] - 0s 98us/step - loss: 0.7630\n",
      "Epoch 43/200\n",
      "101/101 [==============================] - 0s 127us/step - loss: 0.7317\n",
      "Epoch 44/200\n",
      "101/101 [==============================] - 0s 150us/step - loss: 0.7040\n",
      "Epoch 45/200\n",
      "101/101 [==============================] - 0s 222us/step - loss: 0.6769\n",
      "Epoch 46/200\n",
      "101/101 [==============================] - 0s 222us/step - loss: 0.6515\n",
      "Epoch 47/200\n",
      "101/101 [==============================] - 0s 313us/step - loss: 0.6295\n",
      "Epoch 48/200\n",
      "101/101 [==============================] - 0s 289us/step - loss: 0.5998\n",
      "Epoch 49/200\n",
      "101/101 [==============================] - 0s 323us/step - loss: 0.5765\n",
      "Epoch 50/200\n",
      "101/101 [==============================] - 0s 100us/step - loss: 0.5582\n",
      "Epoch 51/200\n",
      "101/101 [==============================] - 0s 104us/step - loss: 0.5399\n",
      "Epoch 52/200\n",
      "101/101 [==============================] - 0s 161us/step - loss: 0.5216\n",
      "Epoch 53/200\n",
      "101/101 [==============================] - 0s 208us/step - loss: 0.5025\n",
      "Epoch 54/200\n",
      "101/101 [==============================] - 0s 237us/step - loss: 0.4850\n",
      "Epoch 55/200\n",
      "101/101 [==============================] - 0s 165us/step - loss: 0.4688\n",
      "Epoch 56/200\n",
      "101/101 [==============================] - 0s 121us/step - loss: 0.4558\n",
      "Epoch 57/200\n",
      "101/101 [==============================] - 0s 138us/step - loss: 0.4412\n",
      "Epoch 58/200\n",
      "101/101 [==============================] - 0s 218us/step - loss: 0.4293\n",
      "Epoch 59/200\n",
      "101/101 [==============================] - 0s 179us/step - loss: 0.4157\n",
      "Epoch 60/200\n",
      "101/101 [==============================] - 0s 210us/step - loss: 0.4022\n",
      "Epoch 61/200\n",
      "101/101 [==============================] - 0s 227us/step - loss: 0.3921\n",
      "Epoch 62/200\n",
      "101/101 [==============================] - 0s 121us/step - loss: 0.3802\n",
      "Epoch 63/200\n",
      "101/101 [==============================] - 0s 166us/step - loss: 0.3705\n",
      "Epoch 64/200\n",
      "101/101 [==============================] - 0s 124us/step - loss: 0.3620\n",
      "Epoch 65/200\n",
      "101/101 [==============================] - 0s 127us/step - loss: 0.3532\n",
      "Epoch 66/200\n",
      "101/101 [==============================] - 0s 233us/step - loss: 0.3447\n",
      "Epoch 67/200\n",
      "101/101 [==============================] - 0s 186us/step - loss: 0.3363\n",
      "Epoch 68/200\n",
      "101/101 [==============================] - 0s 259us/step - loss: 0.3288\n",
      "Epoch 69/200\n",
      "101/101 [==============================] - 0s 121us/step - loss: 0.3219\n",
      "Epoch 70/200\n",
      "101/101 [==============================] - 0s 91us/step - loss: 0.3153\n",
      "Epoch 71/200\n",
      "101/101 [==============================] - 0s 78us/step - loss: 0.3070\n",
      "Epoch 72/200\n",
      "101/101 [==============================] - 0s 169us/step - loss: 0.2994\n",
      "Epoch 73/200\n",
      "101/101 [==============================] - 0s 147us/step - loss: 0.2939\n",
      "Epoch 74/200\n",
      "101/101 [==============================] - 0s 165us/step - loss: 0.2882\n",
      "Epoch 75/200\n",
      "101/101 [==============================] - 0s 215us/step - loss: 0.2829\n",
      "Epoch 76/200\n",
      "101/101 [==============================] - 0s 72us/step - loss: 0.2778\n",
      "Epoch 77/200\n",
      "101/101 [==============================] - 0s 104us/step - loss: 0.2742\n",
      "Epoch 78/200\n",
      "101/101 [==============================] - 0s 87us/step - loss: 0.2702\n",
      "Epoch 79/200\n",
      "101/101 [==============================] - 0s 66us/step - loss: 0.2658\n",
      "Epoch 80/200\n",
      "101/101 [==============================] - 0s 113us/step - loss: 0.2613\n",
      "Epoch 81/200\n",
      "101/101 [==============================] - 0s 113us/step - loss: 0.2572\n",
      "Epoch 82/200\n",
      "101/101 [==============================] - 0s 121us/step - loss: 0.2536\n",
      "Epoch 83/200\n",
      "101/101 [==============================] - 0s 184us/step - loss: 0.2501\n",
      "Epoch 84/200\n",
      "101/101 [==============================] - 0s 100us/step - loss: 0.2476\n",
      "Epoch 85/200\n",
      "101/101 [==============================] - 0s 178us/step - loss: 0.2434\n",
      "Epoch 86/200\n",
      "101/101 [==============================] - 0s 87us/step - loss: 0.2404\n",
      "Epoch 87/200\n",
      "101/101 [==============================] - 0s 131us/step - loss: 0.2379\n",
      "Epoch 88/200\n",
      "101/101 [==============================] - ETA: 0s - loss: 0.192 - 0s 148us/step - loss: 0.2355\n",
      "Epoch 89/200\n",
      "101/101 [==============================] - 0s 159us/step - loss: 0.2321\n",
      "Epoch 90/200\n",
      "101/101 [==============================] - 0s 229us/step - loss: 0.2293\n",
      "Epoch 91/200\n",
      "101/101 [==============================] - 0s 209us/step - loss: 0.2266\n",
      "Epoch 92/200\n",
      "101/101 [==============================] - 0s 174us/step - loss: 0.2243\n",
      "Epoch 93/200\n",
      "101/101 [==============================] - 0s 208us/step - loss: 0.2220\n",
      "Epoch 94/200\n",
      "101/101 [==============================] - 0s 181us/step - loss: 0.2205\n",
      "Epoch 95/200\n",
      "101/101 [==============================] - 0s 189us/step - loss: 0.2195\n",
      "Epoch 96/200\n",
      "101/101 [==============================] - 0s 268us/step - loss: 0.2171\n",
      "Epoch 97/200\n",
      "101/101 [==============================] - 0s 162us/step - loss: 0.2155\n",
      "Epoch 98/200\n",
      "101/101 [==============================] - 0s 124us/step - loss: 0.2139\n",
      "Epoch 99/200\n",
      "101/101 [==============================] - 0s 96us/step - loss: 0.2123\n",
      "Epoch 100/200\n",
      "101/101 [==============================] - 0s 134us/step - loss: 0.2111\n",
      "Epoch 101/200\n",
      "101/101 [==============================] - 0s 129us/step - loss: 0.2099\n",
      "Epoch 102/200\n",
      "101/101 [==============================] - 0s 216us/step - loss: 0.2079\n",
      "Epoch 103/200\n",
      "101/101 [==============================] - 0s 115us/step - loss: 0.2064\n",
      "Epoch 104/200\n",
      "101/101 [==============================] - 0s 118us/step - loss: 0.2057\n",
      "Epoch 105/200\n",
      "101/101 [==============================] - 0s 78us/step - loss: 0.2045\n",
      "Epoch 106/200\n",
      "101/101 [==============================] - 0s 101us/step - loss: 0.2034\n",
      "Epoch 107/200\n",
      "101/101 [==============================] - 0s 82us/step - loss: 0.2023\n",
      "Epoch 108/200\n",
      "101/101 [==============================] - 0s 106us/step - loss: 0.2009\n",
      "Epoch 109/200\n",
      "101/101 [==============================] - 0s 86us/step - loss: 0.1994\n",
      "Epoch 110/200\n",
      "101/101 [==============================] - 0s 75us/step - loss: 0.1982\n",
      "Epoch 111/200\n",
      "101/101 [==============================] - 0s 107us/step - loss: 0.1973\n",
      "Epoch 112/200\n",
      "101/101 [==============================] - 0s 76us/step - loss: 0.1965\n",
      "Epoch 113/200\n",
      "101/101 [==============================] - 0s 69us/step - loss: 0.1955\n",
      "Epoch 114/200\n",
      "101/101 [==============================] - 0s 93us/step - loss: 0.1953\n",
      "Epoch 115/200\n",
      "101/101 [==============================] - 0s 55us/step - loss: 0.1949\n",
      "Epoch 116/200\n",
      "101/101 [==============================] - 0s 98us/step - loss: 0.1944\n",
      "Epoch 117/200\n",
      "101/101 [==============================] - 0s 70us/step - loss: 0.1939\n",
      "Epoch 118/200\n",
      "101/101 [==============================] - 0s 106us/step - loss: 0.1937\n",
      "Epoch 119/200\n",
      "101/101 [==============================] - 0s 96us/step - loss: 0.1931\n",
      "Epoch 120/200\n",
      "101/101 [==============================] - 0s 82us/step - loss: 0.1926\n",
      "Epoch 121/200\n",
      "101/101 [==============================] - 0s 78us/step - loss: 0.1925\n",
      "Epoch 122/200\n",
      "101/101 [==============================] - 0s 85us/step - loss: 0.1926\n",
      "Epoch 123/200\n",
      "101/101 [==============================] - 0s 101us/step - loss: 0.1924\n",
      "Epoch 124/200\n",
      "101/101 [==============================] - 0s 74us/step - loss: 0.1919\n",
      "Epoch 125/200\n",
      "101/101 [==============================] - 0s 79us/step - loss: 0.1916\n",
      "Epoch 126/200\n",
      "101/101 [==============================] - 0s 67us/step - loss: 0.1914\n",
      "Epoch 127/200\n",
      "101/101 [==============================] - 0s 119us/step - loss: 0.1912\n",
      "Epoch 128/200\n",
      "101/101 [==============================] - 0s 86us/step - loss: 0.1910\n",
      "Epoch 129/200\n",
      "101/101 [==============================] - 0s 82us/step - loss: 0.1908\n",
      "Epoch 130/200\n",
      "101/101 [==============================] - 0s 295us/step - loss: 0.1905\n",
      "Epoch 131/200\n",
      "101/101 [==============================] - 0s 137us/step - loss: 0.1904\n",
      "Epoch 132/200\n",
      "101/101 [==============================] - 0s 107us/step - loss: 0.1900\n",
      "Epoch 133/200\n",
      "101/101 [==============================] - 0s 97us/step - loss: 0.1899\n",
      "Epoch 134/200\n",
      "101/101 [==============================] - 0s 110us/step - loss: 0.1895\n",
      "Epoch 135/200\n",
      "101/101 [==============================] - 0s 100us/step - loss: 0.1893\n",
      "Epoch 136/200\n",
      "101/101 [==============================] - 0s 237us/step - loss: 0.1892\n",
      "Epoch 137/200\n",
      "101/101 [==============================] - 0s 164us/step - loss: 0.1891\n",
      "Epoch 138/200\n",
      "101/101 [==============================] - 0s 159us/step - loss: 0.1891\n",
      "Epoch 139/200\n",
      "101/101 [==============================] - 0s 145us/step - loss: 0.1888\n",
      "Epoch 140/200\n",
      "101/101 [==============================] - 0s 138us/step - loss: 0.1885\n",
      "Epoch 141/200\n",
      "101/101 [==============================] - 0s 251us/step - loss: 0.1881\n",
      "Epoch 142/200\n",
      "101/101 [==============================] - 0s 103us/step - loss: 0.1879\n",
      "Epoch 143/200\n",
      "101/101 [==============================] - 0s 63us/step - loss: 0.1876\n",
      "Epoch 144/200\n",
      "101/101 [==============================] - 0s 95us/step - loss: 0.1876\n",
      "Epoch 145/200\n",
      "101/101 [==============================] - 0s 103us/step - loss: 0.1874\n",
      "Epoch 146/200\n",
      "101/101 [==============================] - 0s 139us/step - loss: 0.1874\n",
      "Epoch 147/200\n",
      "101/101 [==============================] - 0s 96us/step - loss: 0.1872\n",
      "Epoch 148/200\n",
      "101/101 [==============================] - 0s 101us/step - loss: 0.1872\n",
      "Epoch 149/200\n",
      "101/101 [==============================] - 0s 93us/step - loss: 0.1871\n",
      "Epoch 150/200\n",
      "101/101 [==============================] - 0s 91us/step - loss: 0.1872\n",
      "Epoch 151/200\n",
      "101/101 [==============================] - 0s 81us/step - loss: 0.1871\n",
      "Epoch 152/200\n",
      "101/101 [==============================] - 0s 89us/step - loss: 0.1869\n",
      "Epoch 153/200\n",
      "101/101 [==============================] - 0s 109us/step - loss: 0.1868\n",
      "Epoch 154/200\n",
      "101/101 [==============================] - 0s 91us/step - loss: 0.1867\n",
      "Epoch 155/200\n",
      "101/101 [==============================] - 0s 91us/step - loss: 0.1866\n",
      "Epoch 156/200\n",
      "101/101 [==============================] - 0s 102us/step - loss: 0.1867\n",
      "Epoch 157/200\n",
      "101/101 [==============================] - 0s 116us/step - loss: 0.1867\n",
      "Epoch 158/200\n",
      "101/101 [==============================] - 0s 116us/step - loss: 0.1866\n",
      "Epoch 159/200\n",
      "101/101 [==============================] - 0s 108us/step - loss: 0.1866\n",
      "Epoch 160/200\n",
      "101/101 [==============================] - 0s 151us/step - loss: 0.1865\n",
      "Epoch 161/200\n",
      "101/101 [==============================] - 0s 153us/step - loss: 0.1865\n",
      "Epoch 162/200\n",
      "101/101 [==============================] - 0s 129us/step - loss: 0.1867\n",
      "Epoch 163/200\n",
      "101/101 [==============================] - 0s 133us/step - loss: 0.1867\n",
      "Epoch 164/200\n",
      "101/101 [==============================] - 0s 301us/step - loss: 0.1867\n",
      "Epoch 165/200\n",
      "101/101 [==============================] - 0s 112us/step - loss: 0.1865\n",
      "Epoch 166/200\n",
      "101/101 [==============================] - 0s 122us/step - loss: 0.1867\n",
      "Epoch 167/200\n",
      "101/101 [==============================] - 0s 234us/step - loss: 0.1865\n",
      "Epoch 168/200\n",
      "101/101 [==============================] - 0s 178us/step - loss: 0.1865\n",
      "Epoch 169/200\n",
      "101/101 [==============================] - 0s 206us/step - loss: 0.1865\n",
      "Epoch 170/200\n",
      "101/101 [==============================] - 0s 227us/step - loss: 0.1863\n",
      "Epoch 171/200\n",
      "101/101 [==============================] - 0s 266us/step - loss: 0.1861\n",
      "Epoch 172/200\n",
      "101/101 [==============================] - 0s 128us/step - loss: 0.1860\n",
      "Epoch 173/200\n",
      "101/101 [==============================] - 0s 135us/step - loss: 0.1860\n",
      "Epoch 174/200\n",
      "101/101 [==============================] - 0s 134us/step - loss: 0.1859\n",
      "Epoch 175/200\n",
      "101/101 [==============================] - 0s 147us/step - loss: 0.1858\n",
      "Epoch 176/200\n",
      "101/101 [==============================] - 0s 82us/step - loss: 0.1859\n",
      "Epoch 177/200\n",
      "101/101 [==============================] - 0s 143us/step - loss: 0.1858\n",
      "Epoch 178/200\n",
      "101/101 [==============================] - 0s 71us/step - loss: 0.1859\n",
      "Epoch 179/200\n",
      "101/101 [==============================] - 0s 100us/step - loss: 0.1857\n",
      "Epoch 180/200\n",
      "101/101 [==============================] - 0s 111us/step - loss: 0.1857\n",
      "Epoch 181/200\n",
      "101/101 [==============================] - 0s 140us/step - loss: 0.1857\n",
      "Epoch 182/200\n",
      "101/101 [==============================] - 0s 188us/step - loss: 0.1856\n",
      "Epoch 183/200\n",
      "101/101 [==============================] - 0s 79us/step - loss: 0.1857\n",
      "Epoch 184/200\n",
      "101/101 [==============================] - 0s 145us/step - loss: 0.1856\n",
      "Epoch 185/200\n",
      "101/101 [==============================] - 0s 88us/step - loss: 0.1856\n",
      "Epoch 186/200\n",
      "101/101 [==============================] - 0s 113us/step - loss: 0.1856\n",
      "Epoch 187/200\n",
      "101/101 [==============================] - 0s 243us/step - loss: 0.1855\n",
      "Epoch 188/200\n",
      "101/101 [==============================] - 0s 231us/step - loss: 0.1856\n",
      "Epoch 189/200\n",
      "101/101 [==============================] - 0s 176us/step - loss: 0.1858\n",
      "Epoch 190/200\n",
      "101/101 [==============================] - 0s 170us/step - loss: 0.1855\n",
      "Epoch 191/200\n",
      "101/101 [==============================] - 0s 157us/step - loss: 0.1855\n",
      "Epoch 192/200\n",
      "101/101 [==============================] - 0s 96us/step - loss: 0.1857\n",
      "Epoch 193/200\n",
      "101/101 [==============================] - 0s 126us/step - loss: 0.1859\n",
      "Epoch 194/200\n",
      "101/101 [==============================] - 0s 156us/step - loss: 0.1857\n",
      "Epoch 195/200\n",
      "101/101 [==============================] - 0s 120us/step - loss: 0.1857\n",
      "Epoch 196/200\n",
      "101/101 [==============================] - 0s 90us/step - loss: 0.1858\n",
      "Epoch 197/200\n",
      "101/101 [==============================] - 0s 77us/step - loss: 0.1858\n",
      "Epoch 198/200\n",
      "101/101 [==============================] - 0s 96us/step - loss: 0.1857\n",
      "Epoch 199/200\n",
      "101/101 [==============================] - 0s 1ms/step - loss: 0.1856A: 0s - loss: 0.188\n",
      "Epoch 200/200\n",
      "101/101 [==============================] - 0s 214us/step - loss: 0.1856\n"
     ]
    },
    {
     "data": {
      "text/plain": [
       "<keras.callbacks.History at 0x12bbd56d8>"
      ]
     },
     "execution_count": 20,
     "metadata": {},
     "output_type": "execute_result"
    }
   ],
   "source": [
    "model.fit(train_data_X, train_data_Y, epochs=200, verbose=1)"
   ]
  },
  {
   "cell_type": "code",
   "execution_count": 21,
   "metadata": {},
   "outputs": [],
   "source": [
    "weights = model.layers[0].get_weights()"
   ]
  },
  {
   "cell_type": "code",
   "execution_count": 22,
   "metadata": {},
   "outputs": [],
   "source": [
    "weight_final = weights[0]"
   ]
  },
  {
   "cell_type": "code",
   "execution_count": 23,
   "metadata": {},
   "outputs": [],
   "source": [
    "bias_final = weights[1]"
   ]
  },
  {
   "cell_type": "code",
   "execution_count": 24,
   "metadata": {},
   "outputs": [
    {
     "name": "stdout",
     "output_type": "stream",
     "text": [
      "Linear regression model is trained to have weight w: 3.91, b: -0.04\n"
     ]
    }
   ],
   "source": [
    "print('Linear regression model is trained to have weight w: %.2f, b: %.2f' % (weight_final, bias_final))"
   ]
  },
  {
   "cell_type": "markdown",
   "metadata": {},
   "source": [
    "## Test the model\n",
    "* predict() - Generates output predictions for the input samples.\n",
    "* result will be weight_final * train_data_X + bias_final\n",
    "* plot the regression line."
   ]
  },
  {
   "cell_type": "code",
   "execution_count": 25,
   "metadata": {},
   "outputs": [],
   "source": [
    "result = model.predict(train_data_X)"
   ]
  },
  {
   "cell_type": "code",
   "execution_count": 26,
   "metadata": {},
   "outputs": [
    {
     "data": {
      "image/png": "[encoded data removed]",
      "text/plain": [
       "<Figure size 432x288 with 1 Axes>"
      ]
     },
     "metadata": {
      "needs_background": "light"
     },
     "output_type": "display_data"
    }
   ],
   "source": [
    "plt.scatter(train_data_X, train_data_Y, label='data',color=['red','green'])\n",
    "plt.plot(train_data_X, result, label='prediction')\n",
    "plt.legend()\n",
    "plt.show()"
   ]
  },
  {
   "cell_type": "code",
   "execution_count": null,
   "metadata": {},
   "outputs": [],
   "source": []
  }
 ],
 "metadata": {
  "kernelspec": {
   "display_name": "Python 3",
   "language": "python",
   "name": "python3"
  },
  "language_info": {
   "codemirror_mode": {
    "name": "ipython",
    "version": 3
   },
   "file_extension": ".py",
   "mimetype": "text/x-python",
   "name": "python",
   "nbconvert_exporter": "python",
   "pygments_lexer": "ipython3",
   "version": "3.6.5"
  }
 },
 "nbformat": 4,
 "nbformat_minor": 2
}
